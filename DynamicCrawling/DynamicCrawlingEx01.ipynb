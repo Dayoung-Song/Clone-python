{
 "cells": [
  {
   "cell_type": "markdown",
   "metadata": {},
   "source": [
    "<h3> [동적 웹크롤링 실습] </h3>\n",
    "<h4> 무신사 베스트 상품 페이지 상품 정보 웹크롤링 </h4>"
   ]
  },
  {
   "cell_type": "code",
   "execution_count": null,
   "metadata": {},
   "outputs": [],
   "source": [
    "from selenium import webdriver\n",
    "from selenium.webdriver.common.by import By\n",
    "from selenium.webdriver.common.keys import Keys\n",
    "import pandas as pd\n",
    "import time\n",
    "\n",
    "# 크롬 드라이버 생성\n",
    "driver = webdriver.Chrome()\n",
    "\n",
    "# 페이지 이동\n",
    "driver.get(\"https://www.musinsa.com/main/musinsa/ranking?storeCode=musinsa&sectionId=199&categoryCode=000\")\n",
    "\n",
    "# 팝업 닫기\n",
    "driver.find_element(By.CSS_SELECTOR, \"body > section > div._gateway-additional_3fnt1_52 > button\").click()\n",
    "time.sleep(1)\n",
    "\n",
    "# 스크롤\n",
    "last_height = driver.execute_script(\"return document.body.scrollHeight\")\n",
    "while True:\n",
    "  driver.execute_script(\"window.scrollTo(0, document.body.scrollHeight)\")\n",
    "  time.sleep(1)\n",
    "  new_height = driver.execute_script(\"return document.body.scrollHeight\")\n",
    "  if last_height == new_height:\n",
    "    break\n",
    "  last_height = new_height\n",
    "\n",
    "# 상품 정보 크롤링\n",
    "from bs4 import BeautifulSoup\n",
    "html = driver.page_source\n",
    "soup = BeautifulSoup(html, 'html.parser')\n",
    "items = soup.select('.sc-1m4cyao-0')\n",
    "data = []\n",
    "for item in items:\n",
    "  brand = item.select_one('.sc-1m4cyao-10.PxNii > a:nth-of-type(odd) > p').text\n",
    "  name = item.select_one('.sc-1m4cyao-10.PxNii > a:nth-of-type(even) > p').text.strip()\n",
    "  price = item.select_one('.sc-1m4cyao-11.fulxlo > span:not(.text-red)').text.replace('원', '')\n",
    "  link = item.select_one('.sc-1m4cyao-10.PxNii > a:nth-of-type(2)').attrs['href']\n",
    "  print(brand, name, price, link)\n",
    "  data.append([brand, name, price, link])"
   ]
  },
  {
   "cell_type": "code",
   "execution_count": null,
   "metadata": {},
   "outputs": [],
   "source": [
    "df = pd.DataFrame(data, columns=['브랜드', '상품명', '가격', '상품 링크'])\n",
    "df"
   ]
  },
  {
   "cell_type": "code",
   "execution_count": 35,
   "metadata": {},
   "outputs": [],
   "source": [
    "df.to_excel('musinsa_product_rank.xlsx', index = False)"
   ]
  }
 ],
 "metadata": {
  "kernelspec": {
   "display_name": "Python 3",
   "language": "python",
   "name": "python3"
  },
  "language_info": {
   "codemirror_mode": {
    "name": "ipython",
    "version": 3
   },
   "file_extension": ".py",
   "mimetype": "text/x-python",
   "name": "python",
   "nbconvert_exporter": "python",
   "pygments_lexer": "ipython3",
   "version": "3.12.1"
  },
  "orig_nbformat": 4
 },
 "nbformat": 4,
 "nbformat_minor": 2
}
