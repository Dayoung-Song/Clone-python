{
 "cells": [
  {
   "cell_type": "markdown",
   "metadata": {},
   "source": [
    "<h3> 웹크롤링 실습 </h3>\n",
    "<h4> 쑈윈도 베스트 상품 페이지 상품 정보 웹크롤링 </h4>"
   ]
  },
  {
   "cell_type": "markdown",
   "metadata": {},
   "source": [
    "'header' 옵션을 따로 지정해주지 않을 경우, 사이트 보안을 위한 접근 차단으로 인하여 403 에러 발생함 <br>\n",
    "403 에러를 모두 위와 같은 방식으로 해결할 수는 없지만, 일반적으로 header 옵션을 추가해주는 것 만으로도 해결되는 경우가 많음"
   ]
  },
  {
   "cell_type": "code",
   "execution_count": null,
   "metadata": {},
   "outputs": [],
   "source": [
    "import requests\n",
    "from bs4 import BeautifulSoup\n",
    "import pandas as pd\n",
    "\n",
    "data = []\n",
    "for i in range(1,9):\n",
    "  response = requests.get(f\"https://showindow.co.kr/product/list.html?cate_no=168&page={i}\", headers={'User-Agent': 'Mozilla/5.0'})\n",
    "  html = response.text\n",
    "  soup = BeautifulSoup(html, 'html.parser')\n",
    "  items = soup.select(\".description\")\n",
    "  for item in items:\n",
    "    brand = item.select_one(\".brand\").text\n",
    "    name = item.select_one(\".name > a\").text.replace('상품명 : ', '')\n",
    "    original_price = item.select_one(\".priceWrapArea\").text.split('소비자가 : ')[1].split('원')[0]\n",
    "    customer_price = item.select_one(\".priceWrapArea\").text.split('판매가 : ')[1].replace('원', '')\n",
    "    link = item.select_one(\".name > a\").attrs['href']ß\n",
    "    print(brand, name, original_price, customer_price, link)\n",
    "    data.append([brand, name, original_price, customer_price, link])"
   ]
  },
  {
   "cell_type": "code",
   "execution_count": null,
   "metadata": {},
   "outputs": [],
   "source": [
    "df = pd.DataFrame(data, columns=['브랜드', '상품명', 'Tag가', '판매가', '상세페이지링크'])\n",
    "df"
   ]
  },
  {
   "cell_type": "code",
   "execution_count": 10,
   "metadata": {},
   "outputs": [],
   "source": [
    "df.to_excel('showindow_bestitem.xlsx', index = False)"
   ]
  }
 ],
 "metadata": {
  "kernelspec": {
   "display_name": "Python 3",
   "language": "python",
   "name": "python3"
  },
  "language_info": {
   "codemirror_mode": {
    "name": "ipython",
    "version": 3
   },
   "file_extension": ".py",
   "mimetype": "text/x-python",
   "name": "python",
   "nbconvert_exporter": "python",
   "pygments_lexer": "ipython3",
   "version": "3.12.1"
  },
  "orig_nbformat": 4
 },
 "nbformat": 4,
 "nbformat_minor": 2
}
