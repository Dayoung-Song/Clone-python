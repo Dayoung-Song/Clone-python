{
 "cells": [
  {
   "cell_type": "code",
   "execution_count": null,
   "metadata": {},
   "outputs": [],
   "source": [
    "\"\"\" 유튜브 \"초보코딩\" 영상 참고 \"\"\"\n",
    "\"\"\"\n",
    "[초기 세팅]\n",
    "1) .ipnyb 파일 생성 (주파터 노트북 파일 생성)\n",
    "2) \"커널 선택\" > '추천/확장 설치/사용 Python + Jupyter' 선택하여 vs code 내 확장 프로그램 설치\n",
    "3) \"커널 선택\" 부분 파이썬 환경 확인 후 변경 필요 시 > \"커널 선택\" 버튼 클릭 > '다른 커널 선택' 및 'Python 환경'에서 원하는 버전 선택\n",
    "4) 코드 실행: control(^) + enter\n",
    "5) 코드 실행과 동시에 다음 줄 코드 작성: shift + enter\n",
    "\"\"\""
   ]
  },
  {
   "cell_type": "code",
   "execution_count": 3,
   "metadata": {},
   "outputs": [
    {
     "name": "stdout",
     "output_type": "stream",
     "text": [
      "hello python!\n"
     ]
    }
   ],
   "source": [
    "print(\"hello python!\")"
   ]
  },
  {
   "cell_type": "code",
   "execution_count": 4,
   "metadata": {},
   "outputs": [
    {
     "name": "stdout",
     "output_type": "stream",
     "text": [
      "hello world\n"
     ]
    }
   ],
   "source": [
    "print(\"hello world\")"
   ]
  }
 ],
 "metadata": {
  "kernelspec": {
   "display_name": "Python 3",
   "language": "python",
   "name": "python3"
  },
  "language_info": {
   "codemirror_mode": {
    "name": "ipython",
    "version": 3
   },
   "file_extension": ".py",
   "mimetype": "text/x-python",
   "name": "python",
   "nbconvert_exporter": "python",
   "pygments_lexer": "ipython3",
   "version": "3.12.1"
  },
  "orig_nbformat": 4
 },
 "nbformat": 4,
 "nbformat_minor": 2
}
